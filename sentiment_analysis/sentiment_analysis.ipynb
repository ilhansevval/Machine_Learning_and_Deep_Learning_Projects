{
 "cells": [
  {
   "cell_type": "markdown",
   "id": "61491453",
   "metadata": {
    "id": "61491453"
   },
   "source": [
    "# **Sentiment Analysis**"
   ]
  },
  {
   "cell_type": "markdown",
   "id": "abe8eced",
   "metadata": {},
   "source": [
    "Duygu analizi, belirli konu hakkında bir cümlenin ya da textin duygu içerip içermediğini anlamak için yapılan çalışmalardır.\n",
    "\n",
    "IMDb Movie Review datası kullanılarak, datada bulunan görüşlerin negatif mi pozitif mi olduğunun analizi yapılacaktır.\n",
    "\n",
    "IMDb (Internet Movie Data base): Çevrimiçi veritabanı"
   ]
  },
  {
   "cell_type": "markdown",
   "id": "cdfa7d56",
   "metadata": {},
   "source": [
    "**Importing Libraries**"
   ]
  },
  {
   "cell_type": "code",
   "execution_count": 1,
   "id": "a42cb2ce",
   "metadata": {
    "id": "a42cb2ce"
   },
   "outputs": [],
   "source": [
    "import numpy as np\n",
    "import matplotlib.pyplot as plt\n",
    "import seaborn as sns\n",
    "\n",
    "import warnings\n",
    "warnings.filterwarnings(\"ignore\")"
   ]
  },
  {
   "cell_type": "markdown",
   "id": "b8997139",
   "metadata": {},
   "source": [
    "**Importing Data**"
   ]
  },
  {
   "cell_type": "code",
   "execution_count": 2,
   "id": "f2590d9c",
   "metadata": {
    "colab": {
     "base_uri": "https://localhost:8080/"
    },
    "id": "f2590d9c",
    "outputId": "fd1970f6-4c09-4e28-b32c-a586393262d1"
   },
   "outputs": [],
   "source": [
    "from keras.datasets import imdb\n",
    "(X_train, Y_train), (X_test, Y_test) = imdb.load_data(path = \"ibdb.npz\",\n",
    "                                                       num_words= None,\n",
    "                                                       skip_top = 0, \n",
    "                                                       #en sık kullanılan kelimelerin ignore edilip edilmeyeceğini belirler.\n",
    "                                                       maxlen = None,\n",
    "                                                       #yorumların uzunluğuna sınır koyulur.\n",
    "                                                       seed = 113,\n",
    "                                                       #data üretilirken shuffle yapılır/random bir şekilde karıştırılır.\n",
    "                                                       #seed 113 ile keras dokümantasyonundaki aynı sırayla verir.\n",
    "                                                       start_char = 1,\n",
    "                                                       #0'dan başlarsa boş karakterlerden başlar.\n",
    "                                                       #en çok kullanılan kelime 1'dir. \n",
    "                                                       #bu şekilde devam eder.\n",
    "                                                       oov_char = 2,\n",
    "                                                       index_from = 3)"
   ]
  },
  {
   "cell_type": "markdown",
   "id": "c4c44680",
   "metadata": {},
   "source": [
    "Dataset train datasetinde 25000, test datasetinde 25000 olmak üzere toplamda 50000 film görüşünden oluşur.\n",
    "\n",
    "Bu görüşler pozitif ve negatif olarak labellanmıştır.\n",
    "\n",
    "Dataset en çok kullanılan kelimelerden başlayarak integer'a çevrilmiştir.\n",
    "\n",
    "Bir şey ifade etmeyen  kelimeler ya da boşluk 0 olarak ineteger'a çevrilmiştir."
   ]
  },
  {
   "cell_type": "code",
   "execution_count": 3,
   "id": "24b1a10d",
   "metadata": {
    "colab": {
     "base_uri": "https://localhost:8080/"
    },
    "id": "24b1a10d",
    "outputId": "71241e9b-53dd-4b53-d92a-59e247f40b70"
   },
   "outputs": [
    {
     "name": "stdout",
     "output_type": "stream",
     "text": [
      "Type of x_train:  <class 'numpy.ndarray'>\n",
      "Type of y_train:  <class 'numpy.ndarray'>\n",
      "Type of x_test:  <class 'numpy.ndarray'>\n",
      "Type of y_test:  <class 'numpy.ndarray'>\n"
     ]
    }
   ],
   "source": [
    "print(\"Type of x_train: \", type(X_train))\n",
    "print(\"Type of y_train: \", type(Y_train))\n",
    "print(\"Type of x_test: \", type(X_test))\n",
    "print(\"Type of y_test: \", type(Y_test))"
   ]
  },
  {
   "cell_type": "markdown",
   "id": "a1aadce0",
   "metadata": {},
   "source": [
    "Datada bulunan kelimeler integer'a çevrildiği için numpy array türündedir."
   ]
  },
  {
   "cell_type": "code",
   "execution_count": 4,
   "id": "69ec52f9",
   "metadata": {
    "colab": {
     "base_uri": "https://localhost:8080/"
    },
    "id": "69ec52f9",
    "outputId": "3e1a7817-d460-4630-8aaa-08594a3c2750"
   },
   "outputs": [
    {
     "name": "stdout",
     "output_type": "stream",
     "text": [
      "X train shape:  (25000,)\n",
      "Y train shape:  (25000,)\n",
      "X test shape:  (25000,)\n",
      "Y test shape:  (25000,)\n"
     ]
    }
   ],
   "source": [
    "print(\"X train shape: \",X_train.shape)\n",
    "print(\"Y train shape: \",Y_train.shape)\n",
    "print(\"X test shape: \",X_test.shape)\n",
    "print(\"Y test shape: \",Y_test.shape)"
   ]
  },
  {
   "cell_type": "markdown",
   "id": "4021bb7f",
   "metadata": {
    "id": "4021bb7f"
   },
   "source": [
    "**Exploratory Data Analysis**"
   ]
  },
  {
   "cell_type": "code",
   "execution_count": 5,
   "id": "503675ce",
   "metadata": {
    "colab": {
     "base_uri": "https://localhost:8080/"
    },
    "id": "503675ce",
    "outputId": "8c3a3450-3b17-46e7-981d-a3f55b267da7"
   },
   "outputs": [
    {
     "name": "stdout",
     "output_type": "stream",
     "text": [
      "Y train values:  [0 1]\n",
      "Y test values:  [0 1]\n"
     ]
    }
   ],
   "source": [
    "print(\"Y train values: \",np.unique(Y_train))\n",
    "print(\"Y test values: \",np.unique(Y_test))"
   ]
  },
  {
   "cell_type": "markdown",
   "id": "d5250c73",
   "metadata": {},
   "source": [
    "0 ve 1 olmak üzere 2 tane class bulunur.\n",
    "\n",
    "0 negatif görüşü, 1 pozitif görüşü ifade eder."
   ]
  },
  {
   "cell_type": "code",
   "execution_count": 6,
   "id": "f66eb559",
   "metadata": {
    "colab": {
     "base_uri": "https://localhost:8080/"
    },
    "id": "f66eb559",
    "outputId": "a0a03aa6-a87d-4c3d-bc7f-96588736e83c"
   },
   "outputs": [
    {
     "name": "stdout",
     "output_type": "stream",
     "text": [
      "Y train distribution:  {0: 12500, 1: 12500}\n"
     ]
    }
   ],
   "source": [
    "unique, counts = np.unique(Y_train, return_counts = True)\n",
    "print(\"Y train distribution: \",dict(zip(unique,counts)))"
   ]
  },
  {
   "cell_type": "code",
   "execution_count": 7,
   "id": "02fcfa11",
   "metadata": {
    "colab": {
     "base_uri": "https://localhost:8080/"
    },
    "id": "02fcfa11",
    "outputId": "b06304c0-367d-4f98-c921-cd080971130f"
   },
   "outputs": [
    {
     "name": "stdout",
     "output_type": "stream",
     "text": [
      "Y test distribution:  {0: 12500, 1: 12500}\n"
     ]
    }
   ],
   "source": [
    "unique, counts = np.unique(Y_test, return_counts = True)\n",
    "print(\"Y test distribution: \",dict(zip(unique,counts)))"
   ]
  },
  {
   "cell_type": "markdown",
   "id": "edd28eee",
   "metadata": {},
   "source": [
    "y_train ve y_test datalarında 12500 pozitif görüş, 12500 negatif görüş bulunmaktadır."
   ]
  },
  {
   "cell_type": "code",
   "execution_count": 8,
   "id": "e2b3ad2f",
   "metadata": {
    "colab": {
     "base_uri": "https://localhost:8080/",
     "height": 295
    },
    "id": "e2b3ad2f",
    "outputId": "83864974-b7d5-431c-d83f-6d63b7a6babe"
   },
   "outputs": [
    {
     "data": {
      "image/png": "[encoded data removed]",
      "text/plain": [
       "<Figure size 432x288 with 1 Axes>"
      ]
     },
     "metadata": {
      "needs_background": "light"
     },
     "output_type": "display_data"
    }
   ],
   "source": [
    "plt.figure()\n",
    "sns.countplot(Y_train)\n",
    "plt.xlabel(\"Classes\")\n",
    "plt.ylabel(\"Freq\")\n",
    "plt.title(\"Y train\")\n",
    "plt.show()"
   ]
  },
  {
   "cell_type": "code",
   "execution_count": 9,
   "id": "0ea48b7a",
   "metadata": {
    "colab": {
     "base_uri": "https://localhost:8080/",
     "height": 295
    },
    "id": "0ea48b7a",
    "outputId": "c32e8ed7-c3c1-40a8-cac4-03c956a308df"
   },
   "outputs": [
    {
     "data": {
      "image/png": "[encoded data removed]",
      "text/plain": [
       "<Figure size 432x288 with 1 Axes>"
      ]
     },
     "metadata": {
      "needs_background": "light"
     },
     "output_type": "display_data"
    }
   ],
   "source": [
    "plt.figure()\n",
    "sns.countplot(Y_test)\n",
    "plt.xlabel(\"Classes\")\n",
    "plt.ylabel(\"Freq\")\n",
    "plt.title(\"Y test\")\n",
    "plt.show()"
   ]
  },
  {
   "cell_type": "markdown",
   "id": "dfe7c784",
   "metadata": {},
   "source": [
    "Count plot ile classlardaki y_train ve y_test datalarındaki class dağılımı görselleştirilmiştir."
   ]
  },
  {
   "cell_type": "code",
   "execution_count": 10,
   "id": "80e36a64",
   "metadata": {
    "colab": {
     "base_uri": "https://localhost:8080/"
    },
    "id": "80e36a64",
    "outputId": "459df8e5-9744-4371-a988-404676331ab6"
   },
   "outputs": [
    {
     "name": "stdout",
     "output_type": "stream",
     "text": [
      "[1, 14, 22, 16, 43, 530, 973, 1622, 1385, 65, 458, 4468, 66, 3941, 4, 173, 36, 256, 5, 25, 100, 43, 838, 112, 50, 670, 22665, 9, 35, 480, 284, 5, 150, 4, 172, 112, 167, 21631, 336, 385, 39, 4, 172, 4536, 1111, 17, 546, 38, 13, 447, 4, 192, 50, 16, 6, 147, 2025, 19, 14, 22, 4, 1920, 4613, 469, 4, 22, 71, 87, 12, 16, 43, 530, 38, 76, 15, 13, 1247, 4, 22, 17, 515, 17, 12, 16, 626, 18, 19193, 5, 62, 386, 12, 8, 316, 8, 106, 5, 4, 2223, 5244, 16, 480, 66, 3785, 33, 4, 130, 12, 16, 38, 619, 5, 25, 124, 51, 36, 135, 48, 25, 1415, 33, 6, 22, 12, 215, 28, 77, 52, 5, 14, 407, 16, 82, 10311, 8, 4, 107, 117, 5952, 15, 256, 4, 31050, 7, 3766, 5, 723, 36, 71, 43, 530, 476, 26, 400, 317, 46, 7, 4, 12118, 1029, 13, 104, 88, 4, 381, 15, 297, 98, 32, 2071, 56, 26, 141, 6, 194, 7486, 18, 4, 226, 22, 21, 134, 476, 26, 480, 5, 144, 30, 5535, 18, 51, 36, 28, 224, 92, 25, 104, 4, 226, 65, 16, 38, 1334, 88, 12, 16, 283, 5, 16, 4472, 113, 103, 32, 15, 16, 5345, 19, 178, 32]\n",
      "<class 'int'>\n",
      "218\n"
     ]
    }
   ],
   "source": [
    "d = X_train[0]\n",
    "print(d)\n",
    "print(type(d[0]))\n",
    "print(len(d))"
   ]
  },
  {
   "cell_type": "markdown",
   "id": "b4243407",
   "metadata": {},
   "source": [
    "x_train'in 0. indeksinde 218 tane integer sayı bulunmaktadır."
   ]
  },
  {
   "cell_type": "code",
   "execution_count": 11,
   "id": "a9c44c63",
   "metadata": {
    "colab": {
     "base_uri": "https://localhost:8080/",
     "height": 265
    },
    "id": "a9c44c63",
    "outputId": "3e07de40-00c0-4ccc-fc6f-e7a44830a9f0"
   },
   "outputs": [
    {
     "name": "stdout",
     "output_type": "stream",
     "text": [
      "Minimum review from train data is 11\n",
      "Minimum review from test data is 7\n",
      "Maximum review from train data is 2494\n",
      "Maximum review from train data is 2315\n"
     ]
    },
    {
     "data": {
      "image/png": "[encoded data removed]",
      "text/plain": [
       "<Figure size 720x504 with 1 Axes>"
      ]
     },
     "metadata": {
      "needs_background": "light"
     },
     "output_type": "display_data"
    }
   ],
   "source": [
    "review_len_train = []\n",
    "review_len_test = []\n",
    "for i, j in zip(X_train, X_test):\n",
    "    review_len_train.append(len(i))\n",
    "    review_len_test.append(len(j))\n",
    "print(\"Minimum review from train data is\",min(review_len_train))\n",
    "print(\"Minimum review from test data is\",min(review_len_test))\n",
    "print(\"Maximum review from train data is\",max(review_len_train))\n",
    "print(\"Maximum review from train data is\",max(review_len_test))\n",
    "plt.figure(figsize=(10,7))\n",
    "sns.distplot(review_len_train, hist_kws = {\"alpha\":0.3}, color = \"blue\")\n",
    "sns.distplot(review_len_test, hist_kws = {\"alpha\":0.3} , color = \"red\")\n",
    "plt.show()"
   ]
  },
  {
   "cell_type": "markdown",
   "id": "0b10dc16",
   "metadata": {},
   "source": [
    "x_train ve x_test datalarında bulunan görüşlerin uzunlukları listeler içerisinde depolanıp görselleştirilmiştir.\n",
    "\n",
    "Bu görselleştirme ile yorumların dağılımına bakılmıştır.\n",
    "\n",
    "Train ve test datasının dağılımları üst üste oturmuştur.\n",
    "\n",
    "Kuyruk sağa doğru uzadığından pozitif skewnesslık görülür."
   ]
  },
  {
   "cell_type": "code",
   "execution_count": 12,
   "id": "8a7a68d2",
   "metadata": {
    "colab": {
     "base_uri": "https://localhost:8080/"
    },
    "id": "8a7a68d2",
    "outputId": "ac84b7f4-c159-49b5-96b1-3f8b8369fd8c"
   },
   "outputs": [
    {
     "name": "stdout",
     "output_type": "stream",
     "text": [
      "Train mean: 238.71364\n",
      "Train median: 178.0\n",
      "Train mode: ModeResult(mode=array([132]), count=array([196]))\n"
     ]
    }
   ],
   "source": [
    "from scipy import stats\n",
    "print(\"Train mean:\", np.mean(review_len_train))\n",
    "print(\"Train median:\", np.median(review_len_train))\n",
    "print(\"Train mode:\", stats.mode(review_len_train))"
   ]
  },
  {
   "cell_type": "markdown",
   "id": "f0a2e8e0",
   "metadata": {},
   "source": [
    "Bazı yorumlarda 2300,2400 kelime bulunurken, bazı yorumlarda 15,20 kelime kullanılmıştır.\n",
    "\n",
    "Keras kütüphanesinde kullanılmak için inputlar aynı size'da olmalıdır.\n",
    "\n",
    "Bu yüzden inputlar mod değerine göre belli bir size'a koyularak sınırlandırılacaktır."
   ]
  },
  {
   "cell_type": "code",
   "execution_count": 13,
   "id": "f9846767",
   "metadata": {
    "colab": {
     "base_uri": "https://localhost:8080/"
    },
    "id": "f9846767",
    "outputId": "aa98eb86-f960-4d43-e9b1-438d0901686e"
   },
   "outputs": [
    {
     "name": "stdout",
     "output_type": "stream",
     "text": [
      "<class 'dict'>\n",
      "88584\n"
     ]
    }
   ],
   "source": [
    "word_index = imdb.get_word_index()\n",
    "print(type(word_index))\n",
    "print(len(word_index))"
   ]
  },
  {
   "cell_type": "markdown",
   "id": "abf89f88",
   "metadata": {},
   "source": [
    "Kaç unique kelime olduğu hesaplanmıştır."
   ]
  },
  {
   "cell_type": "code",
   "execution_count": 14,
   "id": "7ba50c49",
   "metadata": {
    "colab": {
     "base_uri": "https://localhost:8080/"
    },
    "id": "7ba50c49",
    "outputId": "cbfaf038-67c4-4224-d1dd-e9ec75f0e856"
   },
   "outputs": [
    {
     "name": "stdout",
     "output_type": "stream",
     "text": [
      "10 i\n",
      "9 it\n",
      "6 is\n",
      "8 in\n",
      "4 of\n",
      "3 a\n",
      "7 br\n",
      "1 the\n",
      "2 and\n",
      "5 to\n"
     ]
    }
   ],
   "source": [
    "for keys, values in word_index.items():\n",
    "    if values <= 10:\n",
    "        print(values,keys)"
   ]
  },
  {
   "cell_type": "markdown",
   "id": "d5b39861",
   "metadata": {},
   "source": [
    "En çok kullanılan 10 kelime yazdırılmıştır."
   ]
  },
  {
   "cell_type": "code",
   "execution_count": 15,
   "id": "e578db39",
   "metadata": {
    "id": "e578db39"
   },
   "outputs": [],
   "source": [
    "def whatItSay(index = 24):\n",
    "    \n",
    "    reverse_index = dict([(value, key) for (key, value) in word_index.items()])\n",
    "    decode_review = \" \".join([reverse_index.get(i - 3, \"!\") for i in X_train[index]])\n",
    "    print(decode_review)  #yorum\n",
    "    print(Y_train[index]) #yorumun label'ı\n",
    "    return decode_review"
   ]
  },
  {
   "cell_type": "code",
   "execution_count": 16,
   "id": "fb09e9d9",
   "metadata": {
    "colab": {
     "base_uri": "https://localhost:8080/"
    },
    "id": "fb09e9d9",
    "outputId": "48e87692-7d6d-4692-89f4-f818a38b8f97"
   },
   "outputs": [
    {
     "name": "stdout",
     "output_type": "stream",
     "text": [
      "! the original demille movie was made in 1938 with frederic march a very good film indeed hollywood's love of remakes brings us a fairly interesting movie starring yul brynner he of course was brilliant as he almost always seemed to be in all of his movies charlton heston as andrew jackson was a stroke of genius however the movie did tend to get a little long in places it does not move at the pace of the 1938 version still it is a fun movie that should be seen at least once\n",
      "1\n"
     ]
    }
   ],
   "source": [
    "decoded_review = whatItSay()"
   ]
  },
  {
   "cell_type": "markdown",
   "id": "c3bb6456",
   "metadata": {},
   "source": [
    "24. indeksteki görüş ve o yorumun label'ı yazdırılmıştır.\n",
    "\n",
    "1 -> olumlu görüş\n",
    "\n",
    "0 -> olumsuz görüş"
   ]
  },
  {
   "cell_type": "markdown",
   "id": "1410bf2c",
   "metadata": {},
   "source": [
    "**Data Preprocessing**"
   ]
  },
  {
   "cell_type": "markdown",
   "id": "ec424a5c",
   "metadata": {},
   "source": [
    "Keras kütüphanesiyle neural network eğitilirken input olarak girdi sağlanacak verinin boyutu aynı olmak zorundadır.\n",
    "\n",
    "pad sequences methoduyla input datasında bulunan cümlelerin boyutları fixlenir.\n",
    "\n",
    "Her cümle aynı boyuta getirilir."
   ]
  },
  {
   "cell_type": "code",
   "execution_count": 19,
   "id": "39ba12fb",
   "metadata": {
    "colab": {
     "base_uri": "https://localhost:8080/"
    },
    "id": "39ba12fb",
    "outputId": "9dd2a4c2-4f12-498a-da2d-bf1a2fa6bcfe"
   },
   "outputs": [
    {
     "name": "stdout",
     "output_type": "stream",
     "text": [
      "[   0    0    0    0    0    0    0    0    0    0    0    0    0    0\n",
      "    0    0    0    0    0    0    0    0    0    0    0    0    0    0\n",
      "    0    0    0    0    0    0    0    0    0    0    0    0    0    0\n",
      "    0    0    0    0    0    0    0    0    0    0    0    0    0    0\n",
      "    0    0    0    0    0    0    0    0    0    0    0    0    0    0\n",
      "    0    0    0    0    0    0    0    0    0    0    0    0    0    0\n",
      "    0    0    0    0    0    1  778  128   74   12  630  163   15    4\n",
      " 1766 7982 1051    2   32   85  156   45   40  148  139  121  664  665\n",
      "   10   10 1361  173    4  749    2   16 3804    8    4  226   65   12\n",
      "   43  127   24    2   10   10]\n"
     ]
    }
   ],
   "source": [
    "from tensorflow.keras.preprocessing.sequence import pad_sequences\n",
    "num_words = 15000 #kelime sayısı 88584'ten 15000'e düşürüldü.\n",
    "(X_train, Y_train), (X_test, Y_test) = imdb.load_data(num_words=num_words)\n",
    "#15000 kelime kullanılabilmek için veriseti tekrardan çağrılır.\n",
    "\n",
    "maxlen = 132 #yorumların maximum boyutu mod kadar belirlendi.\n",
    "X_train = pad_sequences(X_train, maxlen=maxlen)\n",
    "X_test = pad_sequences(X_test, maxlen=maxlen)\n",
    "#train ve test datalarındaki yorumlara sınır getirildi.\n",
    "\n",
    "print(X_train[5]) #x_train'in 5. indeksindeki yoruma bakılır."
   ]
  },
  {
   "cell_type": "markdown",
   "id": "6516b6f9",
   "metadata": {},
   "source": [
    "132 kelimeye tamamlanabilmek için cümlenin başına anlamsız kelimeler getirilmiştir."
   ]
  },
  {
   "cell_type": "code",
   "execution_count": 20,
   "id": "01efaccf",
   "metadata": {},
   "outputs": [
    {
     "name": "stdout",
     "output_type": "stream",
     "text": [
      "132\n",
      "132\n",
      "132\n",
      "132\n",
      "132\n",
      "132\n",
      "132\n",
      "132\n",
      "132\n",
      "132\n"
     ]
    }
   ],
   "source": [
    "for i in X_train[0:10]:\n",
    "    print(len(i))"
   ]
  },
  {
   "cell_type": "markdown",
   "id": "b91bb886",
   "metadata": {},
   "source": [
    "İlk 10 indeksteki yorumların uzunluğuna bakılmıştır.\n",
    "\n",
    "Tüm yorumların uzunluğunun mod değerine sabitlendiği görülür."
   ]
  },
  {
   "cell_type": "code",
   "execution_count": 21,
   "id": "ddebff1d",
   "metadata": {},
   "outputs": [
    {
     "name": "stdout",
     "output_type": "stream",
     "text": [
      "! ! ! ! ! ! ! ! ! ! ! ! ! ! ! ! ! ! ! ! ! ! ! ! ! ! ! ! ! ! ! ! ! ! ! ! ! ! ! ! ! ! ! ! ! ! ! ! ! ! ! ! ! ! ! ! ! ! ! ! ! ! ! ! ! ! ! ! ! ! ! ! ! ! ! ! ! ! ! ! ! ! ! ! ! ! ! ! ! ! begins better than it ends funny that the russian submarine crew ! all other actors it's like those scenes where documentary shots br br spoiler part the message ! was contrary to the whole story it just does not ! br br\n",
      "0\n"
     ]
    }
   ],
   "source": [
    "decoded_review = whatItSay(5)"
   ]
  },
  {
   "cell_type": "markdown",
   "id": "724fa4c2",
   "metadata": {},
   "source": [
    "Yorumun başına getirilen ünlem işaretleri, yorumu 132 karaktere doldurmak için getirilen unknown karakterlerdir."
   ]
  },
  {
   "cell_type": "markdown",
   "id": "0e141e01",
   "metadata": {},
   "source": [
    "**Recurrent Neural Network**"
   ]
  },
  {
   "cell_type": "markdown",
   "id": "4cd6dc7f",
   "metadata": {},
   "source": [
    "Text işlemi yapıldığından time sequence durumu vardır.\n",
    "\n",
    "**time sequence:** kelimelerin art arda gelmesiden bir dizilim söz konusudur.\n",
    "\n",
    "RNN'de short memory bulunur. Bir önceki node'da olanları hatırlar.\n",
    "\n",
    "RNN aldığı bir input'u output'a vermesine rağmen kendisini o inputla besler ve unutmaz. Bir sonraki node'a ya da layer'a geçtiğinde daha önceden öğrendiği hafızasındadır.\n",
    "\n",
    "Geçmişe dayalı gelecekle ilgili prediction ya da classify yapabilirler."
   ]
  },
  {
   "cell_type": "code",
   "execution_count": 24,
   "id": "750d328a",
   "metadata": {
    "id": "750d328a"
   },
   "outputs": [],
   "source": [
    "from keras.models import Sequential\n",
    "from tensorflow.keras.layers import Embedding\n",
    "from keras.layers import SimpleRNN, Dense, Activation\n",
    "\n",
    "rnn = Sequential()\n",
    "\n",
    "rnn.add(Embedding(num_words, 32, input_length = len(X_train[0])))\n",
    "#num_words -> input dimension\n",
    "#32 -> output dimension\n",
    "#input_length -> yorumun uzunluğu (mod değeri)\n",
    "\n",
    "rnn.add(SimpleRNN(16, input_shape = (num_words,maxlen), return_sequences= False, activation= \"relu\"))\n",
    "#16 -> output space -> 16 node\n",
    "#input_shape -> 15000 kelime, yorumların uzunluğu 132\n",
    "\n",
    "rnn.add(Dense(1))\n",
    "#flatten layer\n",
    "\n",
    "rnn.add(Activation(\"sigmoid\"))\n",
    "#Classification olumlu-olumsuz şeklinde olduğundan binary classsification'dır.\n",
    "#bu yüzden output layer'ın activation function'ı sigmoid'dir."
   ]
  },
  {
   "cell_type": "markdown",
   "id": "29f0affc",
   "metadata": {},
   "source": [
    "Embedding layer'ı integerları belirli boyutlarda yoğunluk vektörlerine çevirir."
   ]
  },
  {
   "cell_type": "code",
   "execution_count": 25,
   "id": "68f3fa89",
   "metadata": {
    "colab": {
     "base_uri": "https://localhost:8080/"
    },
    "id": "68f3fa89",
    "outputId": "66eecdb4-9967-4913-d7be-aec70ea1e9f4"
   },
   "outputs": [
    {
     "name": "stdout",
     "output_type": "stream",
     "text": [
      "Model: \"sequential_2\"\n",
      "_________________________________________________________________\n",
      " Layer (type)                Output Shape              Param #   \n",
      "=================================================================\n",
      " embedding_1 (Embedding)     (None, 132, 32)           480000    \n",
      "                                                                 \n",
      " simple_rnn_1 (SimpleRNN)    (None, 16)                784       \n",
      "                                                                 \n",
      " dense_1 (Dense)             (None, 1)                 17        \n",
      "                                                                 \n",
      " activation_1 (Activation)   (None, 1)                 0         \n",
      "                                                                 \n",
      "=================================================================\n",
      "Total params: 480,801\n",
      "Trainable params: 480,801\n",
      "Non-trainable params: 0\n",
      "_________________________________________________________________\n",
      "None\n"
     ]
    }
   ],
   "source": [
    "print(rnn.summary())"
   ]
  },
  {
   "cell_type": "markdown",
   "id": "49911710",
   "metadata": {},
   "source": [
    "Layerların, parametrelerin sayısı yazdırılmıştır."
   ]
  },
  {
   "cell_type": "code",
   "execution_count": 26,
   "id": "e9e80794",
   "metadata": {},
   "outputs": [],
   "source": [
    "rnn.compile(loss = \"binary_crossentropy\", optimizer=\"rmsprop\",metrics= [\"accuracy\"])"
   ]
  },
  {
   "cell_type": "markdown",
   "id": "63b3050e",
   "metadata": {},
   "source": [
    "**Training RNN Model**"
   ]
  },
  {
   "cell_type": "code",
   "execution_count": 27,
   "id": "534eecd4",
   "metadata": {
    "colab": {
     "base_uri": "https://localhost:8080/"
    },
    "id": "534eecd4",
    "outputId": "d4f03be3-24ae-404b-8c94-6f51221441cf"
   },
   "outputs": [
    {
     "name": "stdout",
     "output_type": "stream",
     "text": [
      "Epoch 1/15\n",
      "196/196 [==============================] - 8s 33ms/step - loss: 0.6745 - accuracy: 0.5865 - val_loss: 0.6130 - val_accuracy: 0.7045\n",
      "Epoch 2/15\n",
      "196/196 [==============================] - 6s 32ms/step - loss: 0.4936 - accuracy: 0.7790 - val_loss: 0.4122 - val_accuracy: 0.8225\n",
      "Epoch 3/15\n",
      "196/196 [==============================] - 6s 32ms/step - loss: 0.3567 - accuracy: 0.8505 - val_loss: 0.3692 - val_accuracy: 0.8401\n",
      "Epoch 4/15\n",
      "196/196 [==============================] - 7s 34ms/step - loss: 0.2820 - accuracy: 0.8858 - val_loss: 0.3325 - val_accuracy: 0.8585\n",
      "Epoch 5/15\n",
      "196/196 [==============================] - 6s 32ms/step - loss: 0.2277 - accuracy: 0.9109 - val_loss: 0.3470 - val_accuracy: 0.8494\n",
      "Epoch 6/15\n",
      "196/196 [==============================] - 6s 32ms/step - loss: 0.1929 - accuracy: 0.9260 - val_loss: 0.3352 - val_accuracy: 0.8624\n",
      "Epoch 7/15\n",
      "196/196 [==============================] - 6s 32ms/step - loss: 0.1617 - accuracy: 0.9378 - val_loss: 0.4527 - val_accuracy: 0.8449\n",
      "Epoch 8/15\n",
      "196/196 [==============================] - 6s 32ms/step - loss: 0.1451 - accuracy: 0.9457 - val_loss: 0.5361 - val_accuracy: 0.8317\n",
      "Epoch 9/15\n",
      "196/196 [==============================] - 7s 33ms/step - loss: 0.1258 - accuracy: 0.9537 - val_loss: 0.4076 - val_accuracy: 0.8579\n",
      "Epoch 10/15\n",
      "196/196 [==============================] - 7s 33ms/step - loss: 0.1104 - accuracy: 0.9592 - val_loss: 0.4405 - val_accuracy: 0.8572\n",
      "Epoch 11/15\n",
      "196/196 [==============================] - 6s 33ms/step - loss: 0.0992 - accuracy: 0.9648 - val_loss: 0.4194 - val_accuracy: 0.8489\n",
      "Epoch 12/15\n",
      "196/196 [==============================] - 7s 33ms/step - loss: 0.0890 - accuracy: 0.9682 - val_loss: 0.5861 - val_accuracy: 0.8405\n",
      "Epoch 13/15\n",
      "196/196 [==============================] - 6s 33ms/step - loss: 0.0756 - accuracy: 0.9732 - val_loss: 0.4572 - val_accuracy: 0.8471\n",
      "Epoch 14/15\n",
      "196/196 [==============================] - 7s 34ms/step - loss: 0.0728 - accuracy: 0.9750 - val_loss: 0.5424 - val_accuracy: 0.8413\n",
      "Epoch 15/15\n",
      "196/196 [==============================] - 6s 33ms/step - loss: 0.0666 - accuracy: 0.9793 - val_loss: 0.5762 - val_accuracy: 0.8424\n"
     ]
    }
   ],
   "source": [
    "history = rnn.fit(X_train, Y_train, validation_data= (X_test, Y_test), epochs=15, batch_size= 128, verbose=1)"
   ]
  },
  {
   "cell_type": "code",
   "execution_count": null,
   "id": "bc5e25c0",
   "metadata": {},
   "outputs": [],
   "source": [
    "#model save\n",
    "rnn.save_weights(\"sentiment_analysis.h5\")"
   ]
  },
  {
   "cell_type": "code",
   "execution_count": null,
   "id": "227075ec",
   "metadata": {},
   "outputs": [],
   "source": [
    "#save history\n",
    "import json\n",
    "with open(\"sentiment_analysis.json\",\"w\") as f:\n",
    "    json.dump(history.history,f)"
   ]
  },
  {
   "cell_type": "markdown",
   "id": "f6210f1b",
   "metadata": {},
   "source": [
    "**Evaluation of Model**"
   ]
  },
  {
   "cell_type": "code",
   "execution_count": 37,
   "id": "bd5c5a92",
   "metadata": {
    "colab": {
     "base_uri": "https://localhost:8080/"
    },
    "id": "bd5c5a92",
    "outputId": "1b3219ad-d0aa-4f06-ecdd-fb5b187e3139"
   },
   "outputs": [
    {
     "name": "stdout",
     "output_type": "stream",
     "text": [
      "782/782 [==============================] - 4s 5ms/step - loss: 0.5762 - accuracy: 0.8424\n",
      "Accuracy: % 84.23600196838379\n"
     ]
    }
   ],
   "source": [
    "score = rnn.evaluate(X_test, Y_test)\n",
    "print(\"Accuracy: %\",score[1]*100)"
   ]
  },
  {
   "cell_type": "code",
   "execution_count": 42,
   "id": "90663cca",
   "metadata": {
    "colab": {
     "base_uri": "https://localhost:8080/",
     "height": 295
    },
    "id": "90663cca",
    "outputId": "172889b6-bdac-4652-c15b-cfa2af2efa7c"
   },
   "outputs": [
    {
     "data": {
      "image/png": "[encoded data removed]",
      "text/plain": [
       "<Figure size 432x288 with 1 Axes>"
      ]
     },
     "metadata": {
      "needs_background": "light"
     },
     "output_type": "display_data"
    }
   ],
   "source": [
    "plt.figure()\n",
    "plt.plot(history.history[\"accuracy\"], label = \"Train\")\n",
    "plt.plot(history.history[\"val_accuracy\"], label = \"Test\")\n",
    "plt.title(\"RNN: Accuracy vs Number of Epochs\")\n",
    "plt.ylabel(\"Accuracy\")\n",
    "plt.xlabel(\"Epoch\")\n",
    "plt.legend()\n",
    "plt.show()"
   ]
  },
  {
   "cell_type": "code",
   "execution_count": 43,
   "id": "7b217ce5",
   "metadata": {
    "colab": {
     "base_uri": "https://localhost:8080/",
     "height": 295
    },
    "id": "7b217ce5",
    "outputId": "7279fc17-ce84-44e1-fb47-1696710d8f7a"
   },
   "outputs": [
    {
     "data": {
      "image/png": "[encoded data removed]",
      "text/plain": [
       "<Figure size 432x288 with 1 Axes>"
      ]
     },
     "metadata": {
      "needs_background": "light"
     },
     "output_type": "display_data"
    }
   ],
   "source": [
    "plt.figure()\n",
    "plt.plot(history.history[\"loss\"], label = \"Train\")\n",
    "plt.plot(history.history[\"val_loss\"], label = \"Test\")\n",
    "plt.title(\"RNN: Loss vs Number of Epochs\")\n",
    "plt.ylabel(\"Loss\")\n",
    "plt.xlabel(\"Epoch\")\n",
    "plt.legend()\n",
    "plt.show()"
   ]
  }
 ],
 "metadata": {
  "colab": {
   "name": "sentiment_analysis.ipynb",
   "provenance": []
  },
  "kernelspec": {
   "display_name": "Python 3 (ipykernel)",
   "language": "python",
   "name": "python3"
  },
  "language_info": {
   "codemirror_mode": {
    "name": "ipython",
    "version": 3
   },
   "file_extension": ".py",
   "mimetype": "text/x-python",
   "name": "python",
   "nbconvert_exporter": "python",
   "pygments_lexer": "ipython3",
   "version": "3.9.7"
  }
 },
 "nbformat": 4,
 "nbformat_minor": 5
}
